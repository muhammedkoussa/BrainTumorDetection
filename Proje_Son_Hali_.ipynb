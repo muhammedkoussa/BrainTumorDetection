{
  "nbformat": 4,
  "nbformat_minor": 0,
  "metadata": {
    "colab": {
      "provenance": [],
      "include_colab_link": true
    },
    "kernelspec": {
      "name": "python3",
      "display_name": "Python 3"
    },
    "language_info": {
      "name": "python"
    }
  },
  "cells": [
    {
      "cell_type": "markdown",
      "metadata": {
        "id": "view-in-github",
        "colab_type": "text"
      },
      "source": [
        "<a href=\"https://colab.research.google.com/github/muhammedkoussa/BrainTumorDetection/blob/main/Proje_Son_Hali_.ipynb\" target=\"_parent\"><img src=\"https://colab.research.google.com/assets/colab-badge.svg\" alt=\"Open In Colab\"/></a>"
      ]
    },
    {
      "cell_type": "markdown",
      "source": [
        "Uyarı mesajlarını görmezden gelmek için"
      ],
      "metadata": {
        "id": "ceWSmgVVg6T6"
      }
    },
    {
      "cell_type": "code",
      "execution_count": null,
      "metadata": {
        "id": "3hfwt1J2nW_9"
      },
      "outputs": [],
      "source": [
        "import warnings\n",
        "warnings.filterwarnings('ignore')"
      ]
    },
    {
      "cell_type": "code",
      "source": [
        "'''\n",
        "import shutil\n",
        "\n",
        "shutil.rmtree('dosya yolu', ignore_errors=True)\n",
        "'''\n",
        "#klasörleri silmek için kod"
      ],
      "metadata": {
        "id": "Fw52nu9tcq__",
        "colab": {
          "base_uri": "https://localhost:8080/",
          "height": 36
        },
        "outputId": "e00c1cac-8a6c-4168-e902-4d3af4befa9e"
      },
      "execution_count": null,
      "outputs": [
        {
          "output_type": "execute_result",
          "data": {
            "text/plain": [
              "\"\\nimport shutil\\n\\nshutil.rmtree('dosya yolu', ignore_errors=True)\\n\""
            ],
            "application/vnd.google.colaboratory.intrinsic+json": {
              "type": "string"
            }
          },
          "metadata": {},
          "execution_count": 2
        }
      ]
    },
    {
      "cell_type": "markdown",
      "source": [
        "# Kaggle Python kütüphanesini yükledik.\n",
        "\n",
        "\n",
        "\n"
      ],
      "metadata": {
        "id": "EaTaYbli_gTr"
      }
    },
    {
      "cell_type": "code",
      "source": [
        "!pip install kaggle\n",
        "\n"
      ],
      "metadata": {
        "id": "5NGwrC4Wn-HG",
        "colab": {
          "base_uri": "https://localhost:8080/"
        },
        "outputId": "9541539c-6c6b-4d7c-b35a-c61d654e13ca"
      },
      "execution_count": null,
      "outputs": [
        {
          "output_type": "stream",
          "name": "stdout",
          "text": [
            "Looking in indexes: https://pypi.org/simple, https://us-python.pkg.dev/colab-wheels/public/simple/\n",
            "Requirement already satisfied: kaggle in /usr/local/lib/python3.8/dist-packages (1.5.12)\n",
            "Requirement already satisfied: tqdm in /usr/local/lib/python3.8/dist-packages (from kaggle) (4.64.1)\n",
            "Requirement already satisfied: python-slugify in /usr/local/lib/python3.8/dist-packages (from kaggle) (7.0.0)\n",
            "Requirement already satisfied: certifi in /usr/local/lib/python3.8/dist-packages (from kaggle) (2022.12.7)\n",
            "Requirement already satisfied: six>=1.10 in /usr/local/lib/python3.8/dist-packages (from kaggle) (1.15.0)\n",
            "Requirement already satisfied: requests in /usr/local/lib/python3.8/dist-packages (from kaggle) (2.25.1)\n",
            "Requirement already satisfied: urllib3 in /usr/local/lib/python3.8/dist-packages (from kaggle) (1.24.3)\n",
            "Requirement already satisfied: python-dateutil in /usr/local/lib/python3.8/dist-packages (from kaggle) (2.8.2)\n",
            "Requirement already satisfied: text-unidecode>=1.3 in /usr/local/lib/python3.8/dist-packages (from python-slugify->kaggle) (1.3)\n",
            "Requirement already satisfied: chardet<5,>=3.0.2 in /usr/local/lib/python3.8/dist-packages (from requests->kaggle) (4.0.0)\n",
            "Requirement already satisfied: idna<3,>=2.5 in /usr/local/lib/python3.8/dist-packages (from requests->kaggle) (2.10)\n"
          ]
        }
      ]
    },
    {
      "cell_type": "markdown",
      "source": [
        "*Kaggle API kullanabilmek için google drive tanımladık."
      ],
      "metadata": {
        "id": "FUAM_I5C_ujz"
      }
    },
    {
      "cell_type": "code",
      "source": [
        "from google.colab import drive\n",
        "drive.mount('/content/drive')"
      ],
      "metadata": {
        "id": "kudi7iBFpVO2",
        "colab": {
          "base_uri": "https://localhost:8080/"
        },
        "outputId": "9c6894dc-46c7-4f8f-8333-6f8a3364fd04"
      },
      "execution_count": null,
      "outputs": [
        {
          "output_type": "stream",
          "name": "stdout",
          "text": [
            "Mounted at /content/drive\n"
          ]
        }
      ]
    },
    {
      "cell_type": "markdown",
      "source": [],
      "metadata": {
        "id": "yPmQqXBqsEuX"
      }
    },
    {
      "cell_type": "code",
      "source": [
        "!mkdir ~/.kaggle"
      ],
      "metadata": {
        "id": "EgTCuzjep5aR"
      },
      "execution_count": null,
      "outputs": []
    },
    {
      "cell_type": "markdown",
      "source": [
        "Kaggle'den indirip drive yükledğimiz JSON doyasını kopyaladık.\n"
      ],
      "metadata": {
        "id": "BUfvH_cU_ypk"
      }
    },
    {
      "cell_type": "code",
      "source": [
        "!cp /content/drive/MyDrive/kaggle.json ~/.kaggle/kaggle.json"
      ],
      "metadata": {
        "id": "3LBpEJ-Mqblw"
      },
      "execution_count": null,
      "outputs": []
    },
    {
      "cell_type": "code",
      "source": [
        "!chmod 600 ~/.kaggle/kaggle.json"
      ],
      "metadata": {
        "id": "vAS_-w2gqqD9"
      },
      "execution_count": null,
      "outputs": []
    },
    {
      "cell_type": "code",
      "source": [
        "!kaggle datasets download ahmedhamada0/brain-tumor-detection"
      ],
      "metadata": {
        "id": "KbdUYFyRq8Ud",
        "colab": {
          "base_uri": "https://localhost:8080/"
        },
        "outputId": "d2330cb5-71a8-4a78-b609-37c35d692f33"
      },
      "execution_count": null,
      "outputs": [
        {
          "output_type": "stream",
          "name": "stdout",
          "text": [
            "Downloading brain-tumor-detection.zip to /content\n",
            " 89% 75.0M/84.0M [00:00<00:00, 116MB/s]\n",
            "100% 84.0M/84.0M [00:00<00:00, 102MB/s]\n"
          ]
        }
      ]
    },
    {
      "cell_type": "code",
      "source": [
        "!unzip brain-tumor-detection"
      ],
      "metadata": {
        "id": "E6JFNK7ur0xS"
      },
      "execution_count": null,
      "outputs": []
    },
    {
      "cell_type": "markdown",
      "source": [
        "Gerekli olan kütüphanelerin import edilmesi"
      ],
      "metadata": {
        "id": "QRm_eIIDA3Dy"
      }
    },
    {
      "cell_type": "code",
      "source": [
        "import numpy as np\n",
        "import matplotlib.pyplot as plt\n",
        "import os\n",
        "import math\n",
        "import shutil\n",
        "import glob"
      ],
      "metadata": {
        "id": "M_gYiuM6tWTU"
      },
      "execution_count": null,
      "outputs": []
    },
    {
      "cell_type": "markdown",
      "source": [
        "* NumPy çok boyutlu dizileri, matrisleri ve üst düzey matematiksel işlevler ekleyen bir kitaplıktır\n",
        "* MatPlotLib  görselleştirme kütüphanesidir.\n",
        "* Os modülü Python'da hazır olarak gelen , dosya ve dizinlerde kolaylıkla işlemler yapmamızı sağlayan bir modüldür.\n",
        "* math modülü matematiksel işlemler yapmanızı kolaylaştırmak için yazılmış bir modüldür.\n",
        "* Shutil dizinler üzerinde bulunan dosyaları kopyalama , taşıma , açma, okuma , yazma ve kapatma gibi işlemleri “OS” modülü ile beraber basitçe yapmamızı sağlayan bir Python modülüdür.\n",
        "* Glob modülü, Python'da belirli bir klasör içindeki dosyaları listelememize yardımcı olan harika bir modüldür. Bu modülü kullanırken filtreleme yaparak, sadece istenilen dosyaların listelenmesini de sağlayabiliyoruz."
      ],
      "metadata": {
        "id": "BZDJGYEF_CiD"
      }
    },
    {
      "cell_type": "code",
      "source": [
        "import os\n",
        "\n",
        "# Colab'da boş bir klasör oluşturun\n",
        "os.mkdir(\"DataSet\")\n",
        "\n",
        "\n",
        "# Klasörü Colab'daki \"dosyalar\" dizinine taşıyın\n",
        "os.rename(\"yes\", \"DataSet/yes\")\n",
        "os.rename(\"no\", \"DataSet/no\")\n"
      ],
      "metadata": {
        "id": "el19b_Jpx_BX"
      },
      "execution_count": null,
      "outputs": []
    },
    {
      "cell_type": "markdown",
      "source": [
        "DataSette kaç adet resim bulunduğunu tespit eden kod"
      ],
      "metadata": {
        "id": "IInz5tQMbrBr"
      }
    },
    {
      "cell_type": "code",
      "source": [
        "ROOT_DIR = \"/content/DataSet\"\n",
        "number_of_images = {}\n",
        "\n",
        "for dir in os.listdir(ROOT_DIR):\n",
        "  number_of_images[dir]=len(os.listdir(os.path.join(ROOT_DIR,dir)))\n",
        "\n",
        "number_of_images.items()"
      ],
      "metadata": {
        "colab": {
          "base_uri": "https://localhost:8080/"
        },
        "id": "g8H9GaBHt1HH",
        "outputId": "83339d2d-684c-4794-dcf0-a1fdb065e488"
      },
      "execution_count": null,
      "outputs": [
        {
          "output_type": "execute_result",
          "data": {
            "text/plain": [
              "dict_items([('yes', 1500), ('no', 1500)])"
            ]
          },
          "metadata": {},
          "execution_count": 12
        }
      ]
    },
    {
      "cell_type": "markdown",
      "source": [
        "#veriyi şöyle ayırdık\n",
        "* Train için %70\n",
        "* Validation %15\n",
        "* Test %15\n",
        "\n",
        "Bu kod, verilen ROOT_DIR dizininin altındaki tüm dizinlerden rastgele seçilmiş resimleri belirtilen split oranına göre ikiye ayırır ve ayırdığı resimleri iki ayrı klasöre kopyalar."
      ],
      "metadata": {
        "id": "j32LDik5wgFR"
      }
    },
    {
      "cell_type": "code",
      "source": [
        "def dataFolder(p, split):\n",
        "\n",
        "#Train için klasör oluşturduk\n",
        "  if not os.path.exists(\"./\"+p):\n",
        "    os.mkdir(\"./\"+p)\n",
        "\n",
        "    for dir in os.listdir(ROOT_DIR):\n",
        "       os.makedirs(\"./\"+p+\"/\"+dir)\n",
        "\n",
        "       for img in np.random.choice(a=os.listdir(os.path.join(ROOT_DIR,dir)) ,\n",
        "                                size=(math.floor(split*number_of_images[dir])-5),\n",
        "                                replace=False ):\n",
        "         O = os.path.join(ROOT_DIR,dir,img) #path\n",
        "         D = os.path.join(\"./\"+p,dir)\n",
        "         shutil.copy(O,D)\n",
        "         os.remove(O)\n",
        "\n",
        "  else:\n",
        "    print(f\"{p} Bu Dosya Mevcuttur\")"
      ],
      "metadata": {
        "id": "Je3KeBshuuZK"
      },
      "execution_count": null,
      "outputs": []
    },
    {
      "cell_type": "code",
      "source": [
        "dataFolder(\"train\" , 0.7)"
      ],
      "metadata": {
        "id": "NR-siDGN0WaR"
      },
      "execution_count": null,
      "outputs": []
    },
    {
      "cell_type": "code",
      "source": [
        "dataFolder(\"val\" , 0.15)"
      ],
      "metadata": {
        "id": "dLvR6ykz7DFf"
      },
      "execution_count": null,
      "outputs": []
    },
    {
      "cell_type": "code",
      "source": [
        "dataFolder(\"test\" , 0.15)"
      ],
      "metadata": {
        "id": "fTlaFNiU8GFh"
      },
      "execution_count": null,
      "outputs": []
    },
    {
      "cell_type": "markdown",
      "source": [
        "***MODEL OLUŞTURMA ***"
      ],
      "metadata": {
        "id": "tVh5WaV19Wt_"
      }
    },
    {
      "cell_type": "code",
      "source": [],
      "metadata": {
        "id": "0vgTFn9wi9uY"
      },
      "execution_count": null,
      "outputs": []
    },
    {
      "cell_type": "code",
      "source": [
        "from keras.layers import Conv2D, MaxPool2D, Dropout, Flatten, Dense, BatchNormalization, GlobalAvgPool2D\n",
        "from keras.models import Sequential\n",
        "from keras.preprocessing.image import ImageDataGenerator\n",
        "import keras\n"
      ],
      "metadata": {
        "id": "7fOJfYoA9Tfo"
      },
      "execution_count": null,
      "outputs": []
    },
    {
      "cell_type": "markdown",
      "source": [
        "CNN MODEL"
      ],
      "metadata": {
        "id": "ipbRvM_dLgQs"
      }
    },
    {
      "cell_type": "markdown",
      "source": [
        "eğitilmemiş boş model oluşturduk"
      ],
      "metadata": {
        "id": "smdUpQS-lSVi"
      }
    },
    {
      "cell_type": "code",
      "source": [
        "from keras.backend import dropout\n",
        "model = Sequential()\n",
        "model.add(Conv2D(filters= 16, kernel_size= (3,3), activation= 'relu', input_shape = (224,224,3) ))\n",
        "\n",
        "model.add(Conv2D(filters= 36 , kernel_size= (3,3), activation= 'relu' ))\n",
        "model.add(MaxPool2D(pool_size=(2,2)))\n",
        "\n",
        "model.add(Conv2D(filters= 64,kernel_size= (3,3), activation= 'relu' ))\n",
        "model.add(MaxPool2D(pool_size=(2,2)))\n",
        "\n",
        "model.add(Conv2D(filters= 128 , kernel_size= (3,3), activation= 'relu' ))\n",
        "model.add(MaxPool2D(pool_size=(2,2)))\n",
        "\n",
        "model.add(Dropout(rate= 0.25))\n",
        "model.add(Flatten())\n",
        "model.add(Dense(units=64,activation= 'relu'))\n",
        "\n",
        "model.add(Dropout(rate=0.25))\n",
        "model.add(Dense(units=1,activation='sigmoid'))\n",
        "model.summary()"
      ],
      "metadata": {
        "id": "pb793MysLc3K",
        "colab": {
          "base_uri": "https://localhost:8080/"
        },
        "outputId": "ae1eae01-f504-4679-c261-1dc0f0112be6"
      },
      "execution_count": null,
      "outputs": [
        {
          "output_type": "stream",
          "name": "stdout",
          "text": [
            "Model: \"sequential\"\n",
            "_________________________________________________________________\n",
            " Layer (type)                Output Shape              Param #   \n",
            "=================================================================\n",
            " conv2d (Conv2D)             (None, 222, 222, 16)      448       \n",
            "                                                                 \n",
            " conv2d_1 (Conv2D)           (None, 220, 220, 36)      5220      \n",
            "                                                                 \n",
            " max_pooling2d (MaxPooling2D  (None, 110, 110, 36)     0         \n",
            " )                                                               \n",
            "                                                                 \n",
            " conv2d_2 (Conv2D)           (None, 108, 108, 64)      20800     \n",
            "                                                                 \n",
            " max_pooling2d_1 (MaxPooling  (None, 54, 54, 64)       0         \n",
            " 2D)                                                             \n",
            "                                                                 \n",
            " conv2d_3 (Conv2D)           (None, 52, 52, 128)       73856     \n",
            "                                                                 \n",
            " max_pooling2d_2 (MaxPooling  (None, 26, 26, 128)      0         \n",
            " 2D)                                                             \n",
            "                                                                 \n",
            " dropout (Dropout)           (None, 26, 26, 128)       0         \n",
            "                                                                 \n",
            " flatten (Flatten)           (None, 86528)             0         \n",
            "                                                                 \n",
            " dense (Dense)               (None, 64)                5537856   \n",
            "                                                                 \n",
            " dropout_1 (Dropout)         (None, 64)                0         \n",
            "                                                                 \n",
            " dense_1 (Dense)             (None, 1)                 65        \n",
            "                                                                 \n",
            "=================================================================\n",
            "Total params: 5,638,245\n",
            "Trainable params: 5,638,245\n",
            "Non-trainable params: 0\n",
            "_________________________________________________________________\n"
          ]
        }
      ]
    },
    {
      "cell_type": "markdown",
      "source": [
        "modeli eğitmek için kullanacagımız algoritmayı seçtik"
      ],
      "metadata": {
        "id": "fYS7Jbr0lXxU"
      }
    },
    {
      "cell_type": "markdown",
      "source": [
        "data generator kullanarak verilerimizi hazırlıyoruz"
      ],
      "metadata": {
        "id": "jEZRzj7IPx87"
      }
    },
    {
      "cell_type": "markdown",
      "source": [
        "verinin dataseti hazırlanılyor"
      ],
      "metadata": {
        "id": "4_yBv4R0lkP1"
      }
    },
    {
      "cell_type": "code",
      "source": [
        "from keras.preprocessing.image import ImageDataGenerator\n",
        "from keras.applications.mobilenet import preprocess_input"
      ],
      "metadata": {
        "id": "4fOvrkv5fb9g"
      },
      "execution_count": null,
      "outputs": []
    },
    {
      "cell_type": "markdown",
      "source": [
        "dosya yolundan verilerin veriseti olarak hazırlanması ve gereken boyutlama işleme yaplıyor."
      ],
      "metadata": {
        "id": "IDrJ456glrXj"
      }
    },
    {
      "cell_type": "code",
      "source": [
        "def preprocessingImages1(path):\n",
        "  \"\"\"\"\n",
        "input : Path\n",
        "output Pre processed images\n",
        "\"\"\"\n",
        "  image_data = ImageDataGenerator(zoom_range= 0.2, shear_range= 0.2, preprocessing_function=preprocess_input, horizontal_flip= True)\n",
        "  image = image_data.flow_from_directory(directory = path, target_size = (224,224), batch_size = 32, class_mode = 'binary')\n",
        "\n",
        "  return image"
      ],
      "metadata": {
        "id": "UK1aRh-QPxEX"
      },
      "execution_count": null,
      "outputs": []
    },
    {
      "cell_type": "code",
      "source": [
        "path = \"/content/train\"\n",
        "train_data = preprocessingImages1(path)"
      ],
      "metadata": {
        "colab": {
          "base_uri": "https://localhost:8080/"
        },
        "id": "x-gERVOBRpij",
        "outputId": "ef49ee61-e7d4-43e0-de12-eb06110251d2"
      },
      "execution_count": null,
      "outputs": [
        {
          "output_type": "stream",
          "name": "stdout",
          "text": [
            "Found 2090 images belonging to 2 classes.\n"
          ]
        }
      ]
    },
    {
      "cell_type": "code",
      "source": [
        "train_data.class_indices"
      ],
      "metadata": {
        "colab": {
          "base_uri": "https://localhost:8080/"
        },
        "id": "DTyPqzEhSqgV",
        "outputId": "214482a9-fed2-4c80-d4e4-f339e2a2f2bc"
      },
      "execution_count": null,
      "outputs": [
        {
          "output_type": "execute_result",
          "data": {
            "text/plain": [
              "{'no': 0, 'yes': 1}"
            ]
          },
          "metadata": {},
          "execution_count": 22
        }
      ]
    },
    {
      "cell_type": "markdown",
      "source": [
        "test verisini orjinalliğine koruyarak dataset oluşturuyor."
      ],
      "metadata": {
        "id": "4zGpfyYXnhI6"
      }
    },
    {
      "cell_type": "code",
      "source": [
        "def preprocessingImages2(path):\n",
        "  \"\"\"\"\n",
        "input : Path\n",
        "output Pre processed images\n",
        "\"\"\"\n",
        "  image_data = ImageDataGenerator(preprocessing_function=preprocess_input )\n",
        "  image = image_data.flow_from_directory(directory = path, target_size = (224,224), batch_size = 32, class_mode = 'binary')\n",
        "\n",
        "  return image"
      ],
      "metadata": {
        "id": "APG8jVlWSqxX"
      },
      "execution_count": null,
      "outputs": []
    },
    {
      "cell_type": "code",
      "source": [
        "path = \"/content/test\"\n",
        "test_data = preprocessingImages2(path)"
      ],
      "metadata": {
        "colab": {
          "base_uri": "https://localhost:8080/"
        },
        "id": "V6IzbejdS2j1",
        "outputId": "c000f374-b39f-484a-c902-674997417840"
      },
      "execution_count": null,
      "outputs": [
        {
          "output_type": "stream",
          "name": "stdout",
          "text": [
            "Found 440 images belonging to 2 classes.\n"
          ]
        }
      ]
    },
    {
      "cell_type": "code",
      "source": [
        "path = \"/content/val\"\n",
        "val_data = preprocessingImages2(path)"
      ],
      "metadata": {
        "colab": {
          "base_uri": "https://localhost:8080/"
        },
        "id": "qXbksl7QTGlg",
        "outputId": "64b3fd72-3455-4bf4-c995-4ea66adb2ff6"
      },
      "execution_count": null,
      "outputs": [
        {
          "output_type": "stream",
          "name": "stdout",
          "text": [
            "Found 440 images belonging to 2 classes.\n"
          ]
        }
      ]
    },
    {
      "cell_type": "markdown",
      "source": [
        "Model Eğitimi"
      ],
      "metadata": {
        "id": "exJTe02Yf-n3"
      }
    },
    {
      "cell_type": "markdown",
      "source": [],
      "metadata": {
        "id": "9fvDv9wJoM_2"
      }
    },
    {
      "cell_type": "code",
      "source": [
        "import tensorflow as tf\n",
        "import numpy as np\n",
        "import matplotlib.pyplot as plt\n",
        "from keras.layers import Flatten, Dense\n",
        "from keras.models import Model, load_model\n",
        "from keras.applications.mobilenet import MobileNet\n",
        "import keras"
      ],
      "metadata": {
        "id": "V4yZ-gOhTLz0"
      },
      "execution_count": null,
      "outputs": []
    },
    {
      "cell_type": "markdown",
      "source": [
        "Hızlı ve Güç tüketimi düşük bu tarz verilerde en yüksek doğruluk oranı veren MobileNet"
      ],
      "metadata": {
        "id": "KQcVyQW0uZIX"
      }
    },
    {
      "cell_type": "code",
      "source": [
        "base_model = MobileNet(input_shape=(224,224,3), include_top= False)"
      ],
      "metadata": {
        "id": "Ehn6r9BJiddV",
        "colab": {
          "base_uri": "https://localhost:8080/"
        },
        "outputId": "9f1d8ec7-8302-44c9-cc56-4afd3c6c6fad"
      },
      "execution_count": null,
      "outputs": [
        {
          "output_type": "stream",
          "name": "stdout",
          "text": [
            "Downloading data from https://storage.googleapis.com/tensorflow/keras-applications/mobilenet/mobilenet_1_0_224_tf_no_top.h5\n",
            "17225924/17225924 [==============================] - 0s 0us/step\n"
          ]
        }
      ]
    },
    {
      "cell_type": "code",
      "source": [
        "for layer in base_model.layers:\n",
        "   layer.trainable = False"
      ],
      "metadata": {
        "id": "xHXUhcgrih_1"
      },
      "execution_count": null,
      "outputs": []
    },
    {
      "cell_type": "code",
      "source": [
        "X = Flatten()(base_model.output)\n",
        "X = Dense(units=1 ,activation='sigmoid')(X)\n",
        "model = Model(base_model.input, X)"
      ],
      "metadata": {
        "id": "9ALI3-XHino9"
      },
      "execution_count": null,
      "outputs": []
    },
    {
      "cell_type": "code",
      "source": [
        "model. summary()\n"
      ],
      "metadata": {
        "id": "ktBOxNeNj88f",
        "colab": {
          "base_uri": "https://localhost:8080/"
        },
        "outputId": "ef7b132d-efcb-4f2c-c7fb-d854aadaf978"
      },
      "execution_count": null,
      "outputs": [
        {
          "output_type": "stream",
          "name": "stdout",
          "text": [
            "Model: \"model\"\n",
            "_________________________________________________________________\n",
            " Layer (type)                Output Shape              Param #   \n",
            "=================================================================\n",
            " input_1 (InputLayer)        [(None, 224, 224, 3)]     0         \n",
            "                                                                 \n",
            " conv1 (Conv2D)              (None, 112, 112, 32)      864       \n",
            "                                                                 \n",
            " conv1_bn (BatchNormalizatio  (None, 112, 112, 32)     128       \n",
            " n)                                                              \n",
            "                                                                 \n",
            " conv1_relu (ReLU)           (None, 112, 112, 32)      0         \n",
            "                                                                 \n",
            " conv_dw_1 (DepthwiseConv2D)  (None, 112, 112, 32)     288       \n",
            "                                                                 \n",
            " conv_dw_1_bn (BatchNormaliz  (None, 112, 112, 32)     128       \n",
            " ation)                                                          \n",
            "                                                                 \n",
            " conv_dw_1_relu (ReLU)       (None, 112, 112, 32)      0         \n",
            "                                                                 \n",
            " conv_pw_1 (Conv2D)          (None, 112, 112, 64)      2048      \n",
            "                                                                 \n",
            " conv_pw_1_bn (BatchNormaliz  (None, 112, 112, 64)     256       \n",
            " ation)                                                          \n",
            "                                                                 \n",
            " conv_pw_1_relu (ReLU)       (None, 112, 112, 64)      0         \n",
            "                                                                 \n",
            " conv_pad_2 (ZeroPadding2D)  (None, 113, 113, 64)      0         \n",
            "                                                                 \n",
            " conv_dw_2 (DepthwiseConv2D)  (None, 56, 56, 64)       576       \n",
            "                                                                 \n",
            " conv_dw_2_bn (BatchNormaliz  (None, 56, 56, 64)       256       \n",
            " ation)                                                          \n",
            "                                                                 \n",
            " conv_dw_2_relu (ReLU)       (None, 56, 56, 64)        0         \n",
            "                                                                 \n",
            " conv_pw_2 (Conv2D)          (None, 56, 56, 128)       8192      \n",
            "                                                                 \n",
            " conv_pw_2_bn (BatchNormaliz  (None, 56, 56, 128)      512       \n",
            " ation)                                                          \n",
            "                                                                 \n",
            " conv_pw_2_relu (ReLU)       (None, 56, 56, 128)       0         \n",
            "                                                                 \n",
            " conv_dw_3 (DepthwiseConv2D)  (None, 56, 56, 128)      1152      \n",
            "                                                                 \n",
            " conv_dw_3_bn (BatchNormaliz  (None, 56, 56, 128)      512       \n",
            " ation)                                                          \n",
            "                                                                 \n",
            " conv_dw_3_relu (ReLU)       (None, 56, 56, 128)       0         \n",
            "                                                                 \n",
            " conv_pw_3 (Conv2D)          (None, 56, 56, 128)       16384     \n",
            "                                                                 \n",
            " conv_pw_3_bn (BatchNormaliz  (None, 56, 56, 128)      512       \n",
            " ation)                                                          \n",
            "                                                                 \n",
            " conv_pw_3_relu (ReLU)       (None, 56, 56, 128)       0         \n",
            "                                                                 \n",
            " conv_pad_4 (ZeroPadding2D)  (None, 57, 57, 128)       0         \n",
            "                                                                 \n",
            " conv_dw_4 (DepthwiseConv2D)  (None, 28, 28, 128)      1152      \n",
            "                                                                 \n",
            " conv_dw_4_bn (BatchNormaliz  (None, 28, 28, 128)      512       \n",
            " ation)                                                          \n",
            "                                                                 \n",
            " conv_dw_4_relu (ReLU)       (None, 28, 28, 128)       0         \n",
            "                                                                 \n",
            " conv_pw_4 (Conv2D)          (None, 28, 28, 256)       32768     \n",
            "                                                                 \n",
            " conv_pw_4_bn (BatchNormaliz  (None, 28, 28, 256)      1024      \n",
            " ation)                                                          \n",
            "                                                                 \n",
            " conv_pw_4_relu (ReLU)       (None, 28, 28, 256)       0         \n",
            "                                                                 \n",
            " conv_dw_5 (DepthwiseConv2D)  (None, 28, 28, 256)      2304      \n",
            "                                                                 \n",
            " conv_dw_5_bn (BatchNormaliz  (None, 28, 28, 256)      1024      \n",
            " ation)                                                          \n",
            "                                                                 \n",
            " conv_dw_5_relu (ReLU)       (None, 28, 28, 256)       0         \n",
            "                                                                 \n",
            " conv_pw_5 (Conv2D)          (None, 28, 28, 256)       65536     \n",
            "                                                                 \n",
            " conv_pw_5_bn (BatchNormaliz  (None, 28, 28, 256)      1024      \n",
            " ation)                                                          \n",
            "                                                                 \n",
            " conv_pw_5_relu (ReLU)       (None, 28, 28, 256)       0         \n",
            "                                                                 \n",
            " conv_pad_6 (ZeroPadding2D)  (None, 29, 29, 256)       0         \n",
            "                                                                 \n",
            " conv_dw_6 (DepthwiseConv2D)  (None, 14, 14, 256)      2304      \n",
            "                                                                 \n",
            " conv_dw_6_bn (BatchNormaliz  (None, 14, 14, 256)      1024      \n",
            " ation)                                                          \n",
            "                                                                 \n",
            " conv_dw_6_relu (ReLU)       (None, 14, 14, 256)       0         \n",
            "                                                                 \n",
            " conv_pw_6 (Conv2D)          (None, 14, 14, 512)       131072    \n",
            "                                                                 \n",
            " conv_pw_6_bn (BatchNormaliz  (None, 14, 14, 512)      2048      \n",
            " ation)                                                          \n",
            "                                                                 \n",
            " conv_pw_6_relu (ReLU)       (None, 14, 14, 512)       0         \n",
            "                                                                 \n",
            " conv_dw_7 (DepthwiseConv2D)  (None, 14, 14, 512)      4608      \n",
            "                                                                 \n",
            " conv_dw_7_bn (BatchNormaliz  (None, 14, 14, 512)      2048      \n",
            " ation)                                                          \n",
            "                                                                 \n",
            " conv_dw_7_relu (ReLU)       (None, 14, 14, 512)       0         \n",
            "                                                                 \n",
            " conv_pw_7 (Conv2D)          (None, 14, 14, 512)       262144    \n",
            "                                                                 \n",
            " conv_pw_7_bn (BatchNormaliz  (None, 14, 14, 512)      2048      \n",
            " ation)                                                          \n",
            "                                                                 \n",
            " conv_pw_7_relu (ReLU)       (None, 14, 14, 512)       0         \n",
            "                                                                 \n",
            " conv_dw_8 (DepthwiseConv2D)  (None, 14, 14, 512)      4608      \n",
            "                                                                 \n",
            " conv_dw_8_bn (BatchNormaliz  (None, 14, 14, 512)      2048      \n",
            " ation)                                                          \n",
            "                                                                 \n",
            " conv_dw_8_relu (ReLU)       (None, 14, 14, 512)       0         \n",
            "                                                                 \n",
            " conv_pw_8 (Conv2D)          (None, 14, 14, 512)       262144    \n",
            "                                                                 \n",
            " conv_pw_8_bn (BatchNormaliz  (None, 14, 14, 512)      2048      \n",
            " ation)                                                          \n",
            "                                                                 \n",
            " conv_pw_8_relu (ReLU)       (None, 14, 14, 512)       0         \n",
            "                                                                 \n",
            " conv_dw_9 (DepthwiseConv2D)  (None, 14, 14, 512)      4608      \n",
            "                                                                 \n",
            " conv_dw_9_bn (BatchNormaliz  (None, 14, 14, 512)      2048      \n",
            " ation)                                                          \n",
            "                                                                 \n",
            " conv_dw_9_relu (ReLU)       (None, 14, 14, 512)       0         \n",
            "                                                                 \n",
            " conv_pw_9 (Conv2D)          (None, 14, 14, 512)       262144    \n",
            "                                                                 \n",
            " conv_pw_9_bn (BatchNormaliz  (None, 14, 14, 512)      2048      \n",
            " ation)                                                          \n",
            "                                                                 \n",
            " conv_pw_9_relu (ReLU)       (None, 14, 14, 512)       0         \n",
            "                                                                 \n",
            " conv_dw_10 (DepthwiseConv2D  (None, 14, 14, 512)      4608      \n",
            " )                                                               \n",
            "                                                                 \n",
            " conv_dw_10_bn (BatchNormali  (None, 14, 14, 512)      2048      \n",
            " zation)                                                         \n",
            "                                                                 \n",
            " conv_dw_10_relu (ReLU)      (None, 14, 14, 512)       0         \n",
            "                                                                 \n",
            " conv_pw_10 (Conv2D)         (None, 14, 14, 512)       262144    \n",
            "                                                                 \n",
            " conv_pw_10_bn (BatchNormali  (None, 14, 14, 512)      2048      \n",
            " zation)                                                         \n",
            "                                                                 \n",
            " conv_pw_10_relu (ReLU)      (None, 14, 14, 512)       0         \n",
            "                                                                 \n",
            " conv_dw_11 (DepthwiseConv2D  (None, 14, 14, 512)      4608      \n",
            " )                                                               \n",
            "                                                                 \n",
            " conv_dw_11_bn (BatchNormali  (None, 14, 14, 512)      2048      \n",
            " zation)                                                         \n",
            "                                                                 \n",
            " conv_dw_11_relu (ReLU)      (None, 14, 14, 512)       0         \n",
            "                                                                 \n",
            " conv_pw_11 (Conv2D)         (None, 14, 14, 512)       262144    \n",
            "                                                                 \n",
            " conv_pw_11_bn (BatchNormali  (None, 14, 14, 512)      2048      \n",
            " zation)                                                         \n",
            "                                                                 \n",
            " conv_pw_11_relu (ReLU)      (None, 14, 14, 512)       0         \n",
            "                                                                 \n",
            " conv_pad_12 (ZeroPadding2D)  (None, 15, 15, 512)      0         \n",
            "                                                                 \n",
            " conv_dw_12 (DepthwiseConv2D  (None, 7, 7, 512)        4608      \n",
            " )                                                               \n",
            "                                                                 \n",
            " conv_dw_12_bn (BatchNormali  (None, 7, 7, 512)        2048      \n",
            " zation)                                                         \n",
            "                                                                 \n",
            " conv_dw_12_relu (ReLU)      (None, 7, 7, 512)         0         \n",
            "                                                                 \n",
            " conv_pw_12 (Conv2D)         (None, 7, 7, 1024)        524288    \n",
            "                                                                 \n",
            " conv_pw_12_bn (BatchNormali  (None, 7, 7, 1024)       4096      \n",
            " zation)                                                         \n",
            "                                                                 \n",
            " conv_pw_12_relu (ReLU)      (None, 7, 7, 1024)        0         \n",
            "                                                                 \n",
            " conv_dw_13 (DepthwiseConv2D  (None, 7, 7, 1024)       9216      \n",
            " )                                                               \n",
            "                                                                 \n",
            " conv_dw_13_bn (BatchNormali  (None, 7, 7, 1024)       4096      \n",
            " zation)                                                         \n",
            "                                                                 \n",
            " conv_dw_13_relu (ReLU)      (None, 7, 7, 1024)        0         \n",
            "                                                                 \n",
            " conv_pw_13 (Conv2D)         (None, 7, 7, 1024)        1048576   \n",
            "                                                                 \n",
            " conv_pw_13_bn (BatchNormali  (None, 7, 7, 1024)       4096      \n",
            " zation)                                                         \n",
            "                                                                 \n",
            " conv_pw_13_relu (ReLU)      (None, 7, 7, 1024)        0         \n",
            "                                                                 \n",
            " flatten_1 (Flatten)         (None, 50176)             0         \n",
            "                                                                 \n",
            " dense_2 (Dense)             (None, 1)                 50177     \n",
            "                                                                 \n",
            "=================================================================\n",
            "Total params: 3,279,041\n",
            "Trainable params: 50,177\n",
            "Non-trainable params: 3,228,864\n",
            "_________________________________________________________________\n"
          ]
        }
      ]
    },
    {
      "cell_type": "code",
      "source": [
        "model.compile(optimizer='rmsprop', loss= keras.losses.binary_crossentropy , metrics=['accuracy'])"
      ],
      "metadata": {
        "id": "UOFmqYlZpcM4"
      },
      "execution_count": null,
      "outputs": []
    },
    {
      "cell_type": "code",
      "source": [
        "#Call Back\n",
        "from keras.callbacks import ModelCheckpoint, EarlyStopping\n",
        "# model Check point\n",
        "mc=ModelCheckpoint(filepath=\"bestmodel.h5\", monitor='val_accuracy', verbose=1, save_best_only=True)\n",
        "#Early Stopping 5 kere improve olmazsa model.fit duraklar\n",
        "es = EarlyStopping(monitor=\"val_accuracy\",min_delta=0.01,patience=5, verbose=1)\n",
        "cb = [mc,es]\n"
      ],
      "metadata": {
        "id": "YQbcn2-vkQn2"
      },
      "execution_count": null,
      "outputs": []
    },
    {
      "cell_type": "code",
      "source": [
        "hist=model.fit_generator(train_data,\n",
        "                         steps_per_epoch=6,\n",
        "                         epochs=30,\n",
        "                         verbose=1,\n",
        "                         validation_data= val_data,\n",
        "                         validation_steps= 10,\n",
        "                         callbacks= cb)"
      ],
      "metadata": {
        "id": "qtZF9S_ElPB9",
        "colab": {
          "base_uri": "https://localhost:8080/"
        },
        "outputId": "96951246-9188-47ed-b51e-9a3f42f27845"
      },
      "execution_count": null,
      "outputs": [
        {
          "output_type": "stream",
          "name": "stdout",
          "text": [
            "Epoch 1/30\n",
            "6/6 [==============================] - ETA: 0s - loss: 10.3249 - accuracy: 0.5677\n",
            "Epoch 1: val_accuracy improved from -inf to 0.74687, saving model to bestmodel.h5\n",
            "6/6 [==============================] - 30s 4s/step - loss: 10.3249 - accuracy: 0.5677 - val_loss: 1.5229 - val_accuracy: 0.7469\n",
            "Epoch 2/30\n",
            "6/6 [==============================] - ETA: 0s - loss: 3.3739 - accuracy: 0.7240\n",
            "Epoch 2: val_accuracy improved from 0.74687 to 0.91875, saving model to bestmodel.h5\n",
            "6/6 [==============================] - 20s 4s/step - loss: 3.3739 - accuracy: 0.7240 - val_loss: 0.3852 - val_accuracy: 0.9187\n",
            "Epoch 3/30\n",
            "6/6 [==============================] - ETA: 0s - loss: 0.8165 - accuracy: 0.8698\n",
            "Epoch 3: val_accuracy did not improve from 0.91875\n",
            "6/6 [==============================] - 20s 4s/step - loss: 0.8165 - accuracy: 0.8698 - val_loss: 1.7412 - val_accuracy: 0.7312\n",
            "Epoch 4/30\n",
            "6/6 [==============================] - ETA: 0s - loss: 2.0850 - accuracy: 0.7396\n",
            "Epoch 4: val_accuracy improved from 0.91875 to 0.93125, saving model to bestmodel.h5\n",
            "6/6 [==============================] - 20s 4s/step - loss: 2.0850 - accuracy: 0.7396 - val_loss: 0.3189 - val_accuracy: 0.9312\n",
            "Epoch 5/30\n",
            "6/6 [==============================] - ETA: 0s - loss: 0.7006 - accuracy: 0.8646\n",
            "Epoch 5: val_accuracy did not improve from 0.93125\n",
            "6/6 [==============================] - 21s 4s/step - loss: 0.7006 - accuracy: 0.8646 - val_loss: 1.4511 - val_accuracy: 0.7719\n",
            "Epoch 6/30\n",
            "6/6 [==============================] - ETA: 0s - loss: 0.8116 - accuracy: 0.8750\n",
            "Epoch 6: val_accuracy did not improve from 0.93125\n",
            "6/6 [==============================] - 19s 4s/step - loss: 0.8116 - accuracy: 0.8750 - val_loss: 3.5837 - val_accuracy: 0.6219\n",
            "Epoch 7/30\n",
            "6/6 [==============================] - ETA: 0s - loss: 1.6489 - accuracy: 0.8073\n",
            "Epoch 7: val_accuracy did not improve from 0.93125\n",
            "6/6 [==============================] - 19s 4s/step - loss: 1.6489 - accuracy: 0.8073 - val_loss: 2.4022 - val_accuracy: 0.7469\n",
            "Epoch 8/30\n",
            "6/6 [==============================] - ETA: 0s - loss: 1.8288 - accuracy: 0.8229\n",
            "Epoch 8: val_accuracy did not improve from 0.93125\n",
            "6/6 [==============================] - 19s 4s/step - loss: 1.8288 - accuracy: 0.8229 - val_loss: 0.4115 - val_accuracy: 0.9125\n",
            "Epoch 9/30\n",
            "6/6 [==============================] - ETA: 0s - loss: 0.2783 - accuracy: 0.9583\n",
            "Epoch 9: val_accuracy improved from 0.93125 to 0.95000, saving model to bestmodel.h5\n",
            "6/6 [==============================] - 19s 4s/step - loss: 0.2783 - accuracy: 0.9583 - val_loss: 0.2214 - val_accuracy: 0.9500\n",
            "Epoch 10/30\n",
            "6/6 [==============================] - ETA: 0s - loss: 0.6904 - accuracy: 0.8542\n",
            "Epoch 10: val_accuracy did not improve from 0.95000\n",
            "6/6 [==============================] - 19s 3s/step - loss: 0.6904 - accuracy: 0.8542 - val_loss: 0.4565 - val_accuracy: 0.9062\n",
            "Epoch 11/30\n",
            "6/6 [==============================] - ETA: 0s - loss: 0.2285 - accuracy: 0.9427\n",
            "Epoch 11: val_accuracy improved from 0.95000 to 0.96250, saving model to bestmodel.h5\n",
            "6/6 [==============================] - 19s 4s/step - loss: 0.2285 - accuracy: 0.9427 - val_loss: 0.2064 - val_accuracy: 0.9625\n",
            "Epoch 12/30\n",
            "6/6 [==============================] - ETA: 0s - loss: 0.1730 - accuracy: 0.9688\n",
            "Epoch 12: val_accuracy did not improve from 0.96250\n",
            "6/6 [==============================] - 19s 3s/step - loss: 0.1730 - accuracy: 0.9688 - val_loss: 1.2524 - val_accuracy: 0.8344\n",
            "Epoch 13/30\n",
            "6/6 [==============================] - ETA: 0s - loss: 1.2570 - accuracy: 0.8438\n",
            "Epoch 13: val_accuracy improved from 0.96250 to 0.96562, saving model to bestmodel.h5\n",
            "6/6 [==============================] - 19s 4s/step - loss: 1.2570 - accuracy: 0.8438 - val_loss: 0.2297 - val_accuracy: 0.9656\n",
            "Epoch 14/30\n",
            "6/6 [==============================] - ETA: 0s - loss: 0.2585 - accuracy: 0.9583\n",
            "Epoch 14: val_accuracy improved from 0.96562 to 0.97188, saving model to bestmodel.h5\n",
            "6/6 [==============================] - 19s 4s/step - loss: 0.2585 - accuracy: 0.9583 - val_loss: 0.1616 - val_accuracy: 0.9719\n",
            "Epoch 15/30\n",
            "6/6 [==============================] - ETA: 0s - loss: 1.5402 - accuracy: 0.8698\n",
            "Epoch 15: val_accuracy did not improve from 0.97188\n",
            "6/6 [==============================] - 19s 3s/step - loss: 1.5402 - accuracy: 0.8698 - val_loss: 11.6898 - val_accuracy: 0.5000\n",
            "Epoch 16/30\n",
            "6/6 [==============================] - ETA: 0s - loss: 2.0579 - accuracy: 0.8646\n",
            "Epoch 16: val_accuracy did not improve from 0.97188\n",
            "6/6 [==============================] - 20s 4s/step - loss: 2.0579 - accuracy: 0.8646 - val_loss: 0.2102 - val_accuracy: 0.9688\n",
            "Epoch 16: early stopping\n"
          ]
        }
      ]
    },
    {
      "cell_type": "code",
      "source": [
        "#en iyi modeli yükleme\n",
        "model = load_model(\"/content/bestmodel.h5\")"
      ],
      "metadata": {
        "id": "xLyhv3b5r0FI"
      },
      "execution_count": null,
      "outputs": []
    },
    {
      "cell_type": "code",
      "source": [
        "acc=model.evaluate_generator(test_data)[1]\n",
        "print(f\"our model accuracy is {acc*100} % \")"
      ],
      "metadata": {
        "colab": {
          "base_uri": "https://localhost:8080/"
        },
        "id": "RNcPRGN3sRyu",
        "outputId": "b7ac95bf-665a-46b7-ad5f-91900056b2c4"
      },
      "execution_count": null,
      "outputs": [
        {
          "output_type": "stream",
          "name": "stdout",
          "text": [
            "our model accuracy is 97.27272987365723 % \n"
          ]
        }
      ]
    },
    {
      "cell_type": "markdown",
      "source": [
        "# Yeni Bölüm"
      ],
      "metadata": {
        "id": "WmBUFvlHu0zE"
      }
    },
    {
      "cell_type": "code",
      "source": [
        "h = hist.history\n",
        "h.keys()"
      ],
      "metadata": {
        "colab": {
          "base_uri": "https://localhost:8080/"
        },
        "id": "zfWaGoxFssSw",
        "outputId": "f5810d35-00ee-47a2-9c39-14e0abe9f709"
      },
      "execution_count": null,
      "outputs": [
        {
          "output_type": "execute_result",
          "data": {
            "text/plain": [
              "dict_keys(['loss', 'accuracy', 'val_loss', 'val_accuracy'])"
            ]
          },
          "metadata": {},
          "execution_count": 36
        }
      ]
    },
    {
      "cell_type": "code",
      "source": [
        "plt.plot(h['accuracy'])\n",
        "plt.plot(h['val_accuracy'], c='red')\n",
        "plt.title(\"acc vs val_acc\")\n",
        "plt.show()"
      ],
      "metadata": {
        "colab": {
          "base_uri": "https://localhost:8080/",
          "height": 281
        },
        "id": "HW6aiaF5tEAJ",
        "outputId": "17b2d497-e5be-4dca-88bf-9e3807220b6d"
      },
      "execution_count": null,
      "outputs": [
        {
          "output_type": "display_data",
          "data": {
            "text/plain": [
              "<Figure size 432x288 with 1 Axes>"
            ],
            "image/png": "[encoded data removed]"
          },
          "metadata": {
            "needs_background": "light"
          }
        }
      ]
    },
    {
      "cell_type": "code",
      "source": [
        "plt.plot(h['loss'])\n",
        "plt.plot(h['val_loss'], c='red')\n",
        "plt.title(\"loss vs val_loss\")\n",
        "plt.show()"
      ],
      "metadata": {
        "colab": {
          "base_uri": "https://localhost:8080/",
          "height": 281
        },
        "id": "p2snz7SRisig",
        "outputId": "9e429d1f-8cab-4e37-c44a-976465428ac6"
      },
      "execution_count": null,
      "outputs": [
        {
          "output_type": "display_data",
          "data": {
            "text/plain": [
              "<Figure size 432x288 with 1 Axes>"
            ],
            "image/png": "[encoded data removed]"
          },
          "metadata": {
            "needs_background": "light"
          }
        }
      ]
    },
    {
      "cell_type": "code",
      "source": [
        "from keras.preprocessing import image"
      ],
      "metadata": {
        "id": "xhoRD8wPuXEH"
      },
      "execution_count": null,
      "outputs": []
    },
    {
      "cell_type": "code",
      "source": [
        "# path for the image to see if it predics correct class\n",
        "path = \"/content/test/yes/y1001.jpg\"\n",
        "\n",
        "img = tf.keras.utils.load_img(path, target_size=(224,224) )\n",
        "\n",
        "i = tf.keras.utils.img_to_array(img)/255\n",
        "input_arr = np.array([i])\n",
        "\n",
        "input_arr.shape\n",
        "pred = np.round_(model.predict(input_arr))\n",
        "\n",
        "print(model.predict(input_arr))\n",
        "print(np.round_(model.predict(input_arr)))\n",
        "\n",
        "if pred == 0:\n",
        "  print(\"Bu MR Görüntüsünde Tümör Tespit Edilmemiştir.\")\n",
        "\n",
        "else :\n",
        "  print(\"Bu MR Görüntüsünde Tümör Tespit Edilmiştir.\")\n",
        "\n",
        "# to display the image\n",
        "plt.imshow(input_arr[0])\n",
        "plt.title(\"input image\")\n",
        "plt.show()"
      ],
      "metadata": {
        "colab": {
          "base_uri": "https://localhost:8080/",
          "height": 385
        },
        "id": "ra4AVk3QulSq",
        "outputId": "da41d1b5-307a-4c89-fa62-1e975cee309e"
      },
      "execution_count": null,
      "outputs": [
        {
          "output_type": "stream",
          "name": "stdout",
          "text": [
            "1/1 [==============================] - 0s 109ms/step\n",
            "1/1 [==============================] - 0s 111ms/step\n",
            "[[0.99636394]]\n",
            "1/1 [==============================] - 0s 207ms/step\n",
            "[[1.]]\n",
            "Bu MR Görüntüsünde Tümör Tespit Edilmiştir.\n"
          ]
        },
        {
          "output_type": "display_data",
          "data": {
            "text/plain": [
              "<Figure size 432x288 with 1 Axes>"
            ],
            "image/png": "[encoded data removed]"
          },
          "metadata": {
            "needs_background": "light"
          }
        }
      ]
    }
  ]
}