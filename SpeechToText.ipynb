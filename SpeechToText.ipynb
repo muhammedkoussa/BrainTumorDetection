{
  "cells": [
    {
      "cell_type": "markdown",
      "metadata": {
        "id": "view-in-github",
        "colab_type": "text"
      },
      "source": [
        "<a href=\"https://colab.research.google.com/github/muhammedkoussa/BrainTumorDetection/blob/main/SpeechToText.ipynb\" target=\"_parent\"><img src=\"https://colab.research.google.com/assets/colab-badge.svg\" alt=\"Open In Colab\"/></a>"
      ]
    },
    {
      "cell_type": "code",
      "execution_count": null,
      "metadata": {
        "colab": {
          "background_save": true
        },
        "id": "3CnjT9-s1ZWc",
        "outputId": "a9f26301-4c8b-4710-b21d-6924ddc0898d"
      },
      "outputs": [
        {
          "name": "stdout",
          "output_type": "stream",
          "text": [
            "Transkripsiyon: Detecting language using up to the first 30 seconds. Use `--language` to specify the language\n",
            "Detected language: English\n",
            "[00:00.000 --> 00:05.760]  Hi, my name is Rachel Dowling, and I'm the CEO and co-founder of Equaltime, and I'm going\n",
            "[00:05.760 --> 00:09.720]  to show you a brief demo of how our product works.\n",
            "[00:09.720 --> 00:12.920]  So I'm in a Zoom call right now with another participant.\n",
            "[00:12.920 --> 00:17.880]  When I unmute myself, you'll see that the speaking time adjusts in real time, and it's\n",
            "[00:17.880 --> 00:18.880]  color-coded.\n",
            "[00:18.880 --> 00:21.920]  So it's red right now because it's very imbalanced.\n",
            "[00:21.920 --> 00:27.400]  It's yellow when it's more moderate and green when it's more equitable.\n",
            "[00:27.400 --> 00:33.600]  You can also sort this to find the people in your call who haven't had a chance to\n",
            "[00:33.600 --> 00:38.320]  speak yet if it's a large meeting, and you can also look at the absolute amount of time\n",
            "[00:38.320 --> 00:40.160]  elapsed.\n",
            "[00:40.160 --> 00:46.760]  You can choose a participant randomly to call on if you would like, and you'll also get\n",
            "[00:46.760 --> 00:52.960]  a real-time inclusion score, which gives you an indication of how inclusive you are being.\n",
            "[00:52.960 --> 00:57.680]  The account will also help you keep track of how many times a single person has talked\n",
            "[00:57.680 --> 01:00.800]  for more than two minutes.\n",
            "[01:00.800 --> 01:07.440]  And we also have groupings here, so if you wanted to look at a group either by gender\n",
            "[01:07.440 --> 01:14.640]  or by team or location, anything you want, you can do that over here.\n",
            "[01:14.640 --> 01:19.640]  I also want to point out briefly as well, we have a couple additional tools like a timer,\n",
            "[01:19.840 --> 01:26.600]  so you can use this timer to set a countdown for a specific amount of time if you want\n",
            "[01:26.600 --> 01:31.920]  to allow a speaker for that amount of time.\n",
            "[01:31.920 --> 01:39.560]  And we also have a tool called rounds, so if you want to allow everyone to have up to\n",
            "[01:39.560 --> 01:44.520]  five minutes, then the color coordination will be green until they reach five minutes\n",
            "[01:44.520 --> 01:47.060]  and then turn red.\n",
            "[01:47.060 --> 01:53.140]  You can also get some icebreaker ideas to start a conversation with your team right\n",
            "[01:53.140 --> 01:54.540]  here.\n",
            "[01:54.540 --> 02:00.020]  Then after the meeting is over, you'll get an email summary of what happened in the meeting\n",
            "[02:00.020 --> 02:07.220]  as well as a summary of the discussion, general summary and also summary by speaker.\n",
            "[02:07.220 --> 02:10.380]  And you'll also see the action items are pulled out.\n",
            "[02:10.380 --> 02:16.000]  This is using AI technology, and it is completely private and secure, so none of this is going\n",
            "[02:16.080 --> 02:17.480]  to train another AI model.\n",
            "[02:17.480 --> 02:21.760]  It is only purely for your use right here.\n",
            "[02:21.760 --> 02:27.840]  You also see your inclusion score, and you can log in to your web app to see more.\n",
            "[02:27.840 --> 02:33.200]  So when I log in, this is another meeting, I can see as well the speaking time and the\n",
            "[02:33.200 --> 02:38.440]  sentiment of the meeting, so how much was positive, negative or neutral, the key words\n",
            "[02:38.440 --> 02:45.000]  that were discussed, the questions asked, and I can drill into who asked how many questions.\n",
            "[02:45.000 --> 02:50.080]  I can also look at the questions specifically in the transcript below.\n",
            "[02:50.080 --> 02:54.120]  The cost of the meeting helps me keep an eye on how expensive the meeting is, how many\n",
            "[02:54.120 --> 02:58.280]  people were in the meeting and how long it was.\n",
            "[02:58.280 --> 03:03.160]  The inclusion score is also here, and you can see it's broken out by participation and\n",
            "[03:03.160 --> 03:04.160]  monologues.\n",
            "[03:04.160 --> 03:06.560]  The summary is here as well.\n",
            "[03:06.560 --> 03:14.080]  You can download this if you want, and you can also hear the action items in the full\n",
            "[03:14.160 --> 03:15.160]  meeting transcript.\n",
            "[03:15.160 --> 03:21.080]  So here's everything that was said, and if I want to, I can search for a particular word\n",
            "[03:21.080 --> 03:23.280]  and find it in the transcript.\n",
            "[03:23.280 --> 03:28.800]  I can edit the transcript if I need to, if there was a mistake or if I want to omit something\n",
            "[03:28.800 --> 03:36.560]  because it was sensitive, and I can share this transcript with a shareable link here\n",
            "[03:36.560 --> 03:42.360]  that allows me to share the full transcript and the summary and the action items with\n",
            "[03:42.360 --> 03:45.240]  anyone that I want to.\n",
            "[03:45.240 --> 03:52.680]  Also by default, over in your settings, sorry, this is your meeting archive, in your settings,\n",
            "[03:52.680 --> 03:59.160]  you can select to have the meeting notes emailed automatically to all participants\n",
            "[03:59.160 --> 04:03.160]  or just your internal team or just keep it to yourself.\n",
            "[04:03.160 --> 04:07.520]  There's a lot of other features and goodies in here, so we really encourage you to check\n",
            "[04:07.600 --> 04:13.600]  it out yourself and email us at hello at equaltime.io if you have any questions.\n",
            "[04:13.600 --> 04:14.840]  Thank you very much.\n"
          ]
        }
      ],
      "source": [
        "import subprocess\n",
        "import sys\n",
        "\n",
        "def install_package(package):\n",
        "    subprocess.check_call([sys.executable, \"-m\", \"pip\", \"install\", package])\n",
        "\n",
        "def sesi_transkribe_et(ses_dosya_yolu, model=\"medium\"):\n",
        "    install_package(\"git+https://github.com/openai/whisper.git\")\n",
        "\n",
        "    try:\n",
        "        komut = [\"whisper\", ses_dosya_yolu, \"--model\", model]\n",
        "        sonuc = subprocess.run(komut, capture_output=True, text=True, check=True)\n",
        "        return sonuc.stdout.strip()\n",
        "    except subprocess.CalledProcessError as e:\n",
        "        print(\"Hata:\", e)\n",
        "        return None\n",
        "\n",
        "# Örnek kullanım:\n",
        "ses_dosya_yolu = \"/content/Equal Time Zoom Demo.mp3\"\n",
        "transkripsiyon = sesi_transkribe_et(ses_dosya_yolu)\n",
        "if transkripsiyon:\n",
        "    print(\"Transkripsiyon:\", transkripsiyon)\n",
        "else:\n",
        "    print(\"Transkripsiyon başarısız oldu.\")\n"
      ]
    }
  ],
  "metadata": {
    "accelerator": "GPU",
    "colab": {
      "gpuType": "T4",
      "provenance": [],
      "authorship_tag": "ABX9TyMsIeb/e+PG/E6y6vn+xkKZ",
      "include_colab_link": true
    },
    "kernelspec": {
      "display_name": "Python 3",
      "name": "python3"
    },
    "language_info": {
      "name": "python"
    }
  },
  "nbformat": 4,
  "nbformat_minor": 0
}